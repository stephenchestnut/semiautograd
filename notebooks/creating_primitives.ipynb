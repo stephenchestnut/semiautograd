{
 "cells": [
  {
   "cell_type": "markdown",
   "id": "ed348d26-53d5-4ed0-932b-4fa6fccff3da",
   "metadata": {},
   "source": [
    "# Defining our first primitives\n",
    "\n",
    "If you haven't already, take a look at a the `semiautograd.semiautograd` module.  It contains the fundamental building blocks for automatic differentiation.\n",
    " * Scalar - containers for computational results that chain together to form the computational graph\n",
    " * Function - differentiable functions and the chain rule\n",
    " * backward - execute backpropagation to compute the derivatives\n",
    "\n",
    "The other important piece of an automatic differentiation system is a set of primitives.  Primatives are differentiable operations, and in `semiautograd` these are instances of `Function`.  Let's start by defining some simple primatives and looking at what happens when we chain them together.  The primatives defined here are also available from the `primatives` module."
   ]
  },
  {
   "cell_type": "code",
   "execution_count": 1,
   "id": "f21ec77d-d7bc-43c3-873b-ff3e60e52a85",
   "metadata": {},
   "outputs": [],
   "source": [
    "from typing import Union, List, Any\n",
    "from semiautograd import Scalar, Function, trace, backward, reset_grad\n",
    "pi = 3.14159265359"
   ]
  },
  {
   "cell_type": "markdown",
   "id": "0e141d5e-7880-4b3f-95a0-abea5e3b87bf",
   "metadata": {},
   "source": [
    "Our first primative just multiplies the input by a scalar, 2.\n",
    "The forward function is `lambda x: 2*x`.  Because the derivative of 2x w.r.t. x is 2, the backward function just returns [2].  Notice that forward returns a number, but backwards returns a list of numbers, one derivative w.r.t. each of the input arguments."
   ]
  },
  {
   "cell_type": "code",
   "execution_count": 2,
   "id": "90b8b0f9-ae55-4391-aae1-dcee95510b50",
   "metadata": {},
   "outputs": [
    {
     "data": {
      "text/plain": [
       "[3.14, 6.28 = Double(3.14), 12.56 = Double(6.28)]"
      ]
     },
     "metadata": {},
     "output_type": "display_data"
    }
   ],
   "source": [
    "Double = Function(\"Double\", lambda x: 2*x, lambda x: [2])\n",
    "\n",
    "x = Scalar(3.14)\n",
    "y = Double(x)\n",
    "z = Double(y)\n",
    "\n",
    "display([x,y,z])"
   ]
  },
  {
   "cell_type": "markdown",
   "id": "f0c25ca9-16b9-4a66-ae3b-b04a472c5f4e",
   "metadata": {},
   "source": [
    "Here are the guts of a Scalar.  It has the following components\n",
    " * value - the actual numerical value\n",
    " * function - the function used to compute this scalar, this let's semiautograd know where to find the backward function.\n",
    " * kwargs - non-differentiated keyword arguments to the function\n",
    " * grad - a placeholder for the derivative\n",
    " * time - a naughty hack that make topologically sorting the computation graph easy to do.\n",
    "\n",
    "An important note of convention here - semiautograd uses `*args` to pass differentiable arguments and `**kwargs` to pass non-differentiable arguments.  There's no special reason for that, it's just a convention."
   ]
  },
  {
   "cell_type": "code",
   "execution_count": 3,
   "id": "72deb5ff-42fd-4383-bf93-b0b0569b4af7",
   "metadata": {},
   "outputs": [
    {
     "data": {
      "text/plain": [
       "{'value': 12.56,\n",
       " 'function': Double(),\n",
       " 'parents': [6.28 = Double(3.14)],\n",
       " 'kwargs': {},\n",
       " 'grad': None,\n",
       " 'time': 2}"
      ]
     },
     "metadata": {},
     "output_type": "display_data"
    },
    {
     "name": "stdout",
     "output_type": "stream",
     "text": [
      "\n",
      "trace(z)=[12.56 = Double(6.28), 6.28 = Double(3.14), 3.14]\n",
      "backward(z)\n",
      "trace(z)=[12.56 = Double(6.28) <grad=1>, 6.28 = Double(3.14) <grad=2>, 3.14 <grad=4>]\n"
     ]
    }
   ],
   "source": [
    "display(z.__dict__)\n",
    "print('')\n",
    "print(f'{trace(z)=}')\n",
    "print('backward(z)')\n",
    "backward(z)\n",
    "print(f'{trace(z)=}')"
   ]
  },
  {
   "cell_type": "markdown",
   "id": "4ecb1fb0-f3a9-4233-bc33-dba0899d49e2",
   "metadata": {},
   "source": [
    "Ooooh, did you catch that computational graph?  `trace` returns a topological sort of the computational graph with parents to the right.  In order for backpropagation to work correctly compute the derivative at a given Scalar we need to first compute the derivatives at each it's children, so semiautograd backprops through the graph in this order.\n",
    "\n",
    "The line `backward(z)` is what actually executes backpropagation, and you can see in the trace that follows it that the derivatives (grads) are now populated.  For example `3.14 <grad=4>` is the variable x we defined in cell two, showing that the derivative of z w.r.t. x is 4.\n",
    "\n",
    "Let's define a couple of other useful primatives and test them out with an arbitrary computation.  Make sure you understand why each of the definitions works.  As as aside, the Function class lets you call the function with either Scalar arguments or numbers.  If you pass in a Scalar then you get back a Scalar, and if you pass in a number then you get back a number.  Mixed Scalar and number arguments are not supported, though."
   ]
  },
  {
   "cell_type": "code",
   "execution_count": 4,
   "id": "0373516b-c328-4c12-b021-1c60046ea1a5",
   "metadata": {},
   "outputs": [
    {
     "name": "stdout",
     "output_type": "stream",
     "text": [
      "[351 = Sum(3,6,18,324), 324 = Pow(18,p=2), 18 = Times(6,3), 6 = Double(3), 3]\n",
      "3 + 2*3 + 3*2*3 + (3*2*3)**2=351\n",
      "v.grad=447, 16 * (3**3) + 4*3 + 3=447\n"
     ]
    }
   ],
   "source": [
    "Pow   = Function(\"Pow\",   lambda x,p: x**p,        lambda x, p: [p*(x**(p-1))])\n",
    "\n",
    "Plus  = Function(\"Plus\",  lambda x,y: x+y,         lambda x,y: [1,1])\n",
    "\n",
    "Sum   = Function(\"Sum\",   lambda *args: sum(args), lambda *args: [1]*len(args))\n",
    "\n",
    "Times = Function(\"Times\", lambda x,y: x*y,         lambda x,y: [y, x])\n",
    "\n",
    "Mod   = Function(\"Mod\",   lambda x,m: x % m,       lambda x, m: [1])\n",
    "\n",
    "Abs   = Function(\"Abs\",   lambda x: abs(x),        lambda x: [-1 if x<0 else 1])\n",
    "\n",
    "\n",
    "v = Scalar(3)     # 3\n",
    "w = Double(v)     # 2*3\n",
    "x = Times(w,v)    # 3*2*3\n",
    "y = Pow(x,p=2)    # (3*2*3)**2\n",
    "z = Sum(v,w,x,y)  # 3 + 2*3 + 3*2*3 + (3*2*3)**2 = 4 * v**4 + 2 * v**2 + 3*v\n",
    "print(trace(z))\n",
    "print(f'{3 + 2*3 + 3*2*3 + (3*2*3)**2=}')\n",
    "backward(z)\n",
    "print(f'{v.grad=}, {16 * (3**3) + 4*3 + 3=}')     #16 * v**3 + 4*v + 3 = 16 * 3**3 + 4*3 + 3"
   ]
  },
  {
   "cell_type": "markdown",
   "id": "d8135883-9572-4004-bd0d-9d961013a713",
   "metadata": {},
   "source": [
    " Now is a good time to think about using primatives versus creating primatives.  The next cell implements cosine and sine by computing their truncated Taylor Series with the primatives we created above.  This is an example of _using_ primatives to get some functionality."
   ]
  },
  {
   "cell_type": "code",
   "execution_count": 5,
   "id": "06adb74d-6078-4d3b-aae9-276c90f83e8e",
   "metadata": {},
   "outputs": [
    {
     "data": {
      "text/plain": [
       "(0.841470984648068,\n",
       " 0.5403023058795627,\n",
       " 0.841470984648068 = Plus(0.8414710097001764,-2.505210838544171e-08),\n",
       " 0.5403023058795627 = Plus(0.540302303791887,2.0876756987868096e-09))"
      ]
     },
     "execution_count": 5,
     "metadata": {},
     "output_type": "execute_result"
    }
   ],
   "source": [
    "def trigtaylor(x: Union[Scalar, float], t: Union[Scalar,float], ii: int):\n",
    "    ''' Compute the taylor series for cos or sin\n",
    "\n",
    "    Arguments:\n",
    "        t -- The leading term in the taylor series\n",
    "        ii -- The order of the leading term\n",
    "    '''\n",
    "    \n",
    "    notscalar = not isinstance(x,Scalar)\n",
    "    if notscalar:\n",
    "        x = Scalar(x)\n",
    "    t = t if isinstance(t,Scalar) else Scalar(t)\n",
    "    eps = Scalar(1e-7)\n",
    "    x = Times(Mod(Abs(x),m=2*pi), Scalar(-1 if x<0 else 1))\n",
    "    xsqr = Pow(x,p=2)\n",
    "    r = Scalar(0)\n",
    "    while Abs(t) > eps:\n",
    "        ii += 2\n",
    "        r = Plus(r,t)\n",
    "        # t * -1 * x**2 / (ii * (ii-1))\n",
    "        t = Times(t, xsqr)\n",
    "        t = Times(t, Scalar(-1/(ii*(ii-1)))) \n",
    "    r = Plus(r,t)\n",
    "    if notscalar:\n",
    "        r = r.value\n",
    "    return r\n",
    "\n",
    "def cos(x: Union[Scalar,float]):\n",
    "    '''Taylor series approximation to cos(x)\n",
    "    1 - x^2 / 2! + x^4 / 4! - x^8 / 8! + ...\n",
    "    '''\n",
    "    return trigtaylor(x, 1, 0)\n",
    "\n",
    "def sin(x: Union[Scalar,float]):\n",
    "    '''Taylor series approximation to sin(x)\n",
    "    x - x^3 / 3! + x^5 / 5! - x^7 / 7! + ...\n",
    "    '''\n",
    "    return trigtaylor(x, x, 1) \n",
    "\n",
    "sin(1),cos(1),sin(Scalar(1)), cos(Scalar(1))"
   ]
  },
  {
   "cell_type": "markdown",
   "id": "55925205-b8fc-4001-b3d9-ee057adb8afe",
   "metadata": {},
   "source": [
    "The computational graph for computing `cos(0)` already has 13 Scalars in it."
   ]
  },
  {
   "cell_type": "code",
   "execution_count": 6,
   "id": "548d174b-b998-4f59-85ee-c764db8e0bae",
   "metadata": {},
   "outputs": [
    {
     "name": "stdout",
     "output_type": "stream",
     "text": [
      "x=0 <grad=0.0>,  y=1.0 = Plus(1,-0.0) <grad=1>\n",
      "\n",
      "trace(y)=[1.0 = Plus(1,-0.0) <grad=1>, -0.0 = Times(0.0,-0.5) <grad=1>, -0.5 <grad=0.0>, 0.0 = Times(1,0.0) <grad=-0.5>, 1 = Plus(0,1) <grad=1>, 0 <grad=1>, 0.0 = Pow(0.0,p=2) <grad=-0.5>, 0.0 = Times(0.0,1) <grad=0.0>, 1 <grad=0.0>, 0.0 = Mod(0,m=6.28318530718) <grad=0.0>, 0 = Abs(0) <grad=0.0>, 1 <grad=1.0>, 0 <grad=0.0>]\n"
     ]
    }
   ],
   "source": [
    "x = Scalar(0)\n",
    "y = cos(x)\n",
    "backward(y)\n",
    "print(f'{x=},  {y=}\\n\\n{trace(y)=}')"
   ]
  },
  {
   "cell_type": "markdown",
   "id": "a8d5767c-26c5-40d8-bc77-1f8aaee39d85",
   "metadata": {},
   "source": [
    "Take a look at the graph for `cos(-1)`!"
   ]
  },
  {
   "cell_type": "code",
   "execution_count": 7,
   "id": "736c46a2-0f6b-4d84-8829-f62250aa818a",
   "metadata": {},
   "outputs": [
    {
     "name": "stdout",
     "output_type": "stream",
     "text": [
      "x=-1 <grad=0.8414709846480679>,  y=0.5403023058795627 = Plus(0.540302303791887,2.0876756987868096e-09) <grad=1>\n",
      "\n",
      "trace(y)=[0.5403023058795627 = Plus(0.540302303791887,2.0876756987868096e-09) <grad=1>, 2.0876756987868096e-09 = Times(-2.755731922398589e-07,-0.007575757575757576) <grad=1>, -0.007575757575757576 <grad=-2.755731922398589e-07>, -2.755731922398589e-07 = Times(-2.755731922398589e-07,1.0) <grad=-0.007575757575757576>, 0.540302303791887 = Plus(0.5403025793650793,-2.755731922398589e-07) <grad=1>, -2.755731922398589e-07 = Times(2.4801587301587298e-05,-0.011111111111111112) <grad=0.9924242424242424>, -0.011111111111111112 <grad=2.4613696488696486e-05>, 2.4801587301587298e-05 = Times(2.4801587301587298e-05,1.0) <grad=-0.011026936026936027>, 0.5403025793650793 = Plus(0.5402777777777777,2.4801587301587298e-05) <grad=1>, 2.4801587301587298e-05 = Times(-0.0013888888888888887,-0.017857142857142856) <grad=0.988973063973064>, -0.017857142857142856 <grad=-0.0013735736999625887>, -0.0013888888888888887 = Times(-0.0013888888888888887,1.0) <grad=-0.017660233285233282>, 0.5402777777777777 = Plus(0.5416666666666666,-0.0013888888888888887) <grad=1>, -0.0013888888888888887 = Times(0.041666666666666664,-0.03333333333333333) <grad=0.9823397667147667>, -0.03333333333333333 <grad=0.04093082361311528>, 0.041666666666666664 = Times(0.041666666666666664,1.0) <grad=-0.032744658890492225>, 0.5416666666666666 = Plus(0.5,0.041666666666666664) <grad=1>, 0.041666666666666664 = Times(-0.5,-0.08333333333333333) <grad=0.9672553411095077>, -0.08333333333333333 <grad=-0.48362767055475386>, -0.5 = Times(-0.5,1.0) <grad=-0.08060461175912564>, 0.5 = Plus(1,-0.5) <grad=1>, -0.5 = Times(1.0,-0.5) <grad=0.9193953882408743>, -0.5 <grad=0.9193953882408743>, 1.0 = Times(1,1.0) <grad=-0.45969769412043715>, 1 = Plus(0,1) <grad=1>, 0 <grad=1>, 1.0 = Pow(-1.0,p=2) <grad=-0.42073549232403396>, -1.0 = Times(1.0,-1) <grad=0.8414709846480679>, -1 <grad=0.8414709846480679>, 1.0 = Mod(1,m=6.28318530718) <grad=-0.8414709846480679>, 1 = Abs(-1) <grad=-0.8414709846480679>, 1 <grad=0.5403023058795628>, -1 <grad=0.8414709846480679>]\n"
     ]
    }
   ],
   "source": [
    "x = Scalar(-1)\n",
    "y = cos(x)\n",
    "backward(y)\n",
    "print(f'{x=},  {y=}\\n\\n{trace(y)=}')"
   ]
  },
  {
   "cell_type": "markdown",
   "id": "983f310c-4aeb-4884-972b-860fe977d429",
   "metadata": {},
   "source": [
    "Another way to get the cosine functionality is to create a new primative.  In this case, we've used the exact same forward computation, but since we're able to differentiate cosine directly we can the functional form of the derivative for the backward function."
   ]
  },
  {
   "cell_type": "code",
   "execution_count": 8,
   "id": "64e99656-e0b8-4384-b99c-3d85a1ec8dc2",
   "metadata": {},
   "outputs": [
    {
     "name": "stdout",
     "output_type": "stream",
     "text": [
      "x=-1 <grad=0.841470984648068>,  y=0.5403023058795627 = Cos(-1) <grad=1>\n",
      "\n",
      "trace(y)=[0.5403023058795627 = Cos(-1) <grad=1>, -1 <grad=0.841470984648068>]\n"
     ]
    }
   ],
   "source": [
    "Cos = Function(\"Cos\", lambda x: cos(x), lambda x: [-sin(x)])\n",
    "\n",
    "x = Scalar(-1)\n",
    "y = Cos(x)\n",
    "backward(y)\n",
    "\n",
    "print(f'{x=},  {y=}\\n\\n{trace(y)=}')"
   ]
  },
  {
   "cell_type": "markdown",
   "id": "823bc8fb-f7a3-4510-bb6a-265f47465210",
   "metadata": {},
   "source": [
    "### We've created two different differentiable implementations of cosine and sine, which is better?  Why?"
   ]
  },
  {
   "cell_type": "markdown",
   "id": "a60fe981-a062-4ad5-a438-f3e531e2a3f7",
   "metadata": {},
   "source": [
    "In using a automatic differentiation library we're almost always working with existing primatives instead of defining new ones.  When you define a new primative you have to write down its derivative and not writing down derivatives is kind of what automatic differentiation is all about.  "
   ]
  },
  {
   "cell_type": "code",
   "execution_count": null,
   "id": "3dd0c393-c958-4d15-8655-4538ba7ac3cc",
   "metadata": {},
   "outputs": [],
   "source": []
  }
 ],
 "metadata": {
  "kernelspec": {
   "display_name": "Python 3 (ipykernel)",
   "language": "python",
   "name": "python3"
  },
  "language_info": {
   "codemirror_mode": {
    "name": "ipython",
    "version": 3
   },
   "file_extension": ".py",
   "mimetype": "text/x-python",
   "name": "python",
   "nbconvert_exporter": "python",
   "pygments_lexer": "ipython3",
   "version": "3.11.6"
  }
 },
 "nbformat": 4,
 "nbformat_minor": 5
}
